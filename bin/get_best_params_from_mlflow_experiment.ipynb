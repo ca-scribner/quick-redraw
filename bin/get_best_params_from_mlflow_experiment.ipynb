{
 "cells": [
  {
   "cell_type": "markdown",
   "metadata": {},
   "source": [
    "# Summary\n",
    "\n",
    "## Demonstration of how to pull results from an mlflow repository\n",
    "\n",
    "mlflow results are stored as runs nested in experiments and can be pulled individually and as a group.  The following is an example of the interactions.\n",
    "\n",
    "Shown includes:\n",
    "* searching across experiments\n",
    "* excluding based on filters\n",
    "* setting runs to finished\n",
    "* deleting runs or experiments and searching based on that status"
   ]
  },
  {
   "cell_type": "code",
   "execution_count": 1,
   "metadata": {},
   "outputs": [],
   "source": [
    "import mlflow\n",
    "import mlflow.tracking\n",
    "from mlflow.tracking import MlflowClient\n",
    "import os\n",
    "import shutil\n",
    "from pprint import pprint"
   ]
  },
  {
   "cell_type": "code",
   "execution_count": 2,
   "metadata": {},
   "outputs": [],
   "source": [
    "# Enumerators from mlflow\n",
    "\n",
    "# ALL shows active and deleted rows.  \n",
    "ALL = mlflow.entities.view_type.ViewType.ALL\n",
    "\n",
    "# ACTIVE_ONLY shows only runs that were not 'deleted'\n",
    "ACTIVE_ONLY = mlflow.entities.view_type.ViewType.ACTIVE_ONLY\n",
    "\n",
    "# FINISHED shows anything that was marked as \"terminated\" with FINISHED as the code\n",
    "FINISHED = mlflow.entities.RunStatus.to_string(mlflow.entities.RunStatus.FINISHED)"
   ]
  },
  {
   "cell_type": "markdown",
   "metadata": {},
   "source": [
    "### Create a mlflow repo to interact with"
   ]
  },
  {
   "cell_type": "code",
   "execution_count": 3,
   "metadata": {},
   "outputs": [],
   "source": [
    "temp_mlflow_uri = \"./temp_mlflow/\"\n",
    "\n",
    "if os.path.exists(temp_mlflow_uri) and os.path.isdir(temp_mlflow_uri):\n",
    "    shutil.rmtree(temp_mlflow_uri)\n",
    "\n",
    "client = MlflowClient(temp_mlflow_uri)"
   ]
  },
  {
   "cell_type": "markdown",
   "metadata": {},
   "source": [
    "### Create 3 experiments with 5 runs each and 10 internal steps \n",
    "\n",
    "Odd numbered runs are set to finished (2 per experiment)\n",
    "Last run in each experiment is deleted\n",
    "Experiment 2 is deleted entirely"
   ]
  },
  {
   "cell_type": "code",
   "execution_count": 4,
   "metadata": {},
   "outputs": [],
   "source": [
    "n_experiments = 3\n",
    "n_runs = 5\n",
    "n_steps = 10\n",
    "SOME_TAG_AT_RUN_CREATION = 'tag_name'\n",
    "TAG_VALUE = 'value'\n",
    "METRIC_NAME = \"some_metric\"\n",
    "\n",
    "for i_experiment in range(n_experiments):\n",
    "    this_exp_id = client.create_experiment(f\"Experiment {i_experiment}\")\n",
    "    for i_run in range(n_runs):\n",
    "        this_run = client.create_run(this_exp_id, tags={SOME_TAG_AT_RUN_CREATION: TAG_VALUE})\n",
    "        run_id = this_run.info.run_id\n",
    "        client.log_param(run_id, \"some_param\", i_run)\n",
    "        for i_step in range(n_steps):\n",
    "            client.log_metric(run_id, METRIC_NAME, i_run / 5. * i_step / n_steps, step=i_step)\n",
    "        # Set odd runs to finished\n",
    "        if i_run % 2 == 1:\n",
    "            client.set_terminated(run_id)\n",
    "            \n",
    "        # Delete the first run\n",
    "        if i_run == 0: \n",
    "            client.delete_run(run_id)\n",
    "            \n",
    "client.delete_experiment(this_exp_id)"
   ]
  },
  {
   "cell_type": "markdown",
   "metadata": {},
   "source": [
    "### Get the history of a metric for a single run"
   ]
  },
  {
   "cell_type": "code",
   "execution_count": 5,
   "metadata": {},
   "outputs": [
    {
     "name": "stdout",
     "output_type": "stream",
     "text": [
      "[<Metric: key='some_metric', step=0, timestamp=1583090423573, value=0.0>,\n",
      " <Metric: key='some_metric', step=1, timestamp=1583090423575, value=0.08>,\n",
      " <Metric: key='some_metric', step=2, timestamp=1583090423577, value=0.16>,\n",
      " <Metric: key='some_metric', step=3, timestamp=1583090423579, value=0.24000000000000005>,\n",
      " <Metric: key='some_metric', step=4, timestamp=1583090423581, value=0.32>,\n",
      " <Metric: key='some_metric', step=5, timestamp=1583090423583, value=0.4>,\n",
      " <Metric: key='some_metric', step=6, timestamp=1583090423585, value=0.4800000000000001>,\n",
      " <Metric: key='some_metric', step=7, timestamp=1583090423588, value=0.56>,\n",
      " <Metric: key='some_metric', step=8, timestamp=1583090423590, value=0.64>,\n",
      " <Metric: key='some_metric', step=9, timestamp=1583090423592, value=0.72>]\n"
     ]
    }
   ],
   "source": [
    "exp = client.list_experiments()[0]\n",
    "# print(exp)\n",
    "run_infos = client.list_run_infos(experiment_id=exp.experiment_id)\n",
    "# print(run_infos)\n",
    "run_id = run_infos[0].run_id\n",
    "metric_history = client.get_metric_history(run_id=run_id, key=METRIC_NAME)\n",
    "pprint(metric_history)"
   ]
  },
  {
   "cell_type": "markdown",
   "metadata": {},
   "source": [
    "### Search for the best metric across multiple experiments\n",
    "\n",
    "Searches all active (not deleted) experiments, all runs (active and deleted).  Should find 10"
   ]
  },
  {
   "cell_type": "code",
   "execution_count": 6,
   "metadata": {},
   "outputs": [
    {
     "name": "stdout",
     "output_type": "stream",
     "text": [
      "Found 10 runs\n",
      "Showing first two runs returned:\n",
      "[<Run: data=<RunData: metrics={'some_metric': 0.0}, params={'some_param': '0'}, tags={'tag_name': 'value'}>, info=<RunInfo: artifact_uri='./temp_mlflow/2/5d2c4c31bc9f4d7889becb056c33a36f/artifacts', end_time=None, experiment_id='2', lifecycle_stage='deleted', run_id='5d2c4c31bc9f4d7889becb056c33a36f', run_uuid='5d2c4c31bc9f4d7889becb056c33a36f', start_time=1583090423598, status='RUNNING', user_id='unknown'>>,\n",
      " <Run: data=<RunData: metrics={'some_metric': 0.0}, params={'some_param': '0'}, tags={'tag_name': 'value'}>, info=<RunInfo: artifact_uri='./temp_mlflow/1/7da8066a588b4121a8ecd9e3914f052d/artifacts', end_time=None, experiment_id='1', lifecycle_stage='deleted', run_id='7da8066a588b4121a8ecd9e3914f052d', run_uuid='7da8066a588b4121a8ecd9e3914f052d', start_time=1583090423427, status='RUNNING', user_id='unknown'>>]\n"
     ]
    }
   ],
   "source": [
    "experiments = client.list_experiments()  # by default searches ALL_ACTIVE\n",
    "experiment_ids = [exp.experiment_id for exp in experiments]\n",
    "\n",
    "runs = client.search_runs(experiment_ids=experiment_ids, \n",
    "#                            filter_string=filter_string,\n",
    "                           # Filter by the active/deleted built-in metadata (lifecycle_stage)\n",
    "                           # (can use for deprecating past runs)\n",
    "                           run_view_type=ALL,\n",
    "\n",
    "                           # Order using metrics, params, etc\n",
    "                           order_by=[f'metric.{METRIC_NAME}'],\n",
    "                          )\n",
    "\n",
    "print(f\"Found {len(runs)} runs\")\n",
    "print(\"Showing first two runs returned:\")\n",
    "pprint(runs[:2])"
   ]
  },
  {
   "cell_type": "markdown",
   "metadata": {},
   "source": [
    "### Or search only \"finished\" runs (terminated)\n",
    "\n",
    "Searches ACTIVE_ONLY experiments. Should find 4"
   ]
  },
  {
   "cell_type": "code",
   "execution_count": 7,
   "metadata": {},
   "outputs": [
    {
     "name": "stdout",
     "output_type": "stream",
     "text": [
      "Found 4 runs\n"
     ]
    }
   ],
   "source": [
    "# attributes.status is set using the termination function above (can be more than just finished and running)\n",
    "filter_string = f\"attributes.status = '{FINISHED}'\"# AND {SOME_TAG_AT_RUN_CREATION} = '{TAG_VALUE}'\" # Only with certain tag (could use this as data version, could also be a param value)\n",
    "\n",
    "experiments = client.list_experiments()\n",
    "experiment_ids = [exp.experiment_id for exp in experiments]\n",
    "\n",
    "runs = client.search_runs(experiment_ids=experiment_ids, \n",
    "                           filter_string=filter_string,\n",
    "                           # Filter by the active/deleted built-in metadata (lifecycle_stage)\n",
    "                           # (can use for deprecating past runs)\n",
    "                           run_view_type=ALL,\n",
    "\n",
    "                           # Order using metrics, params, etc\n",
    "                           order_by=[f'metric.{METRIC_NAME}'],\n",
    "                          )\n",
    "\n",
    "print(f\"Found {len(runs)} runs\")\n",
    "# pprint(runs)"
   ]
  },
  {
   "cell_type": "markdown",
   "metadata": {},
   "source": [
    "### Or search only \"finished\" runs (terminated) that have a tag\n",
    "\n",
    "Searches ACTIVE_ONLY experiments.  Should find 4"
   ]
  },
  {
   "cell_type": "code",
   "execution_count": 8,
   "metadata": {},
   "outputs": [
    {
     "name": "stdout",
     "output_type": "stream",
     "text": [
      "Found 4 runs\n"
     ]
    }
   ],
   "source": [
    "# Could use tag filters for data_version == relevant_data, or model_version == relevant_model\n",
    "# Model versioning also supported within mlflow, but not sure if it is good?\n",
    "filter_string = f\"attributes.status = '{FINISHED}' and tag.{SOME_TAG_AT_RUN_CREATION} = '{TAG_VALUE}'\" # Only with certain tag (could use this as data version, could also be a param value)\n",
    "\n",
    "experiments = client.list_experiments()\n",
    "experiment_ids = [exp.experiment_id for exp in experiments]\n",
    "\n",
    "runs = client.search_runs(experiment_ids=experiment_ids, \n",
    "                           filter_string=filter_string,\n",
    "                           # Filter by the active/deleted built-in metadata (lifecycle_stage)\n",
    "                           # (can use for deprecating past runs)\n",
    "                           run_view_type=ALL,\n",
    "\n",
    "                           # Order using metrics, params, etc\n",
    "                           order_by=[f'metric.{METRIC_NAME}'],\n",
    "                          )\n",
    "\n",
    "print(f\"Found {len(runs)} runs\")\n",
    "# pprint(runs)"
   ]
  },
  {
   "cell_type": "markdown",
   "metadata": {},
   "source": [
    "### Search from ALL experiments (active or deleted) to get any \"finished\" runs that are not deleted (run is not deleted, but it could be in a deleted experiment)\n",
    "\n",
    "Should find 6"
   ]
  },
  {
   "cell_type": "code",
   "execution_count": 9,
   "metadata": {},
   "outputs": [
    {
     "name": "stdout",
     "output_type": "stream",
     "text": [
      "Found 6 runs\n"
     ]
    }
   ],
   "source": [
    "# Create a string filter that combines multiple criteria\n",
    "filter_string = f\"attributes.status = '{FINISHED}'\"\n",
    "\n",
    "experiments = client.list_experiments(view_type=ALL)\n",
    "experiment_ids = [exp.experiment_id for exp in experiments]\n",
    "\n",
    "runs = client.search_runs(experiment_ids=experiment_ids, \n",
    "                           filter_string=filter_string,\n",
    "                           # Filter by the active/deleted built-in metadata (lifecycle_stage)\n",
    "                           # (can use for deprecating past runs)\n",
    "                           run_view_type=ACTIVE_ONLY,\n",
    "\n",
    "                           # Order using metrics, params, etc\n",
    "                           order_by=[f'metric.{METRIC_NAME}'],\n",
    "                          )\n",
    "\n",
    "print(f\"Found {len(runs)} runs\")\n",
    "# pprint(runs)"
   ]
  },
  {
   "cell_type": "markdown",
   "metadata": {},
   "source": [
    "## Pull the best finished run from all active experiments/runs"
   ]
  },
  {
   "cell_type": "code",
   "execution_count": 10,
   "metadata": {},
   "outputs": [
    {
     "name": "stdout",
     "output_type": "stream",
     "text": [
      "Found 4 runs\n",
      "params of best run:\n",
      "{'some_param': '3'}\n"
     ]
    }
   ],
   "source": [
    "# Create a string filter that combines multiple criteria\n",
    "filter_string = f\"attributes.status = '{FINISHED}'\"\n",
    "\n",
    "experiments = client.list_experiments(view_type=ACTIVE_ONLY)\n",
    "experiment_ids = [exp.experiment_id for exp in experiments]\n",
    "\n",
    "runs = client.search_runs(experiment_ids=experiment_ids, \n",
    "                           filter_string=filter_string,\n",
    "                           # Filter by the active/deleted built-in metadata (lifecycle_stage)\n",
    "                           # (can use for deprecating past runs)\n",
    "                           run_view_type=ACTIVE_ONLY,\n",
    "\n",
    "                           # Order using metrics, params, etc\n",
    "                           order_by=[f'metric.{METRIC_NAME}.DESC'],\n",
    "                          )\n",
    "\n",
    "print(f\"Found {len(runs)} runs\")\n",
    "best_run = runs[0]\n",
    "print(\"params of best run:\")\n",
    "pprint(best_run.data.params)"
   ]
  },
  {
   "cell_type": "markdown",
   "metadata": {},
   "source": [
    "# Cleanup"
   ]
  },
  {
   "cell_type": "code",
   "execution_count": 11,
   "metadata": {},
   "outputs": [],
   "source": [
    "if os.path.exists(temp_mlflow_uri) and os.path.isdir(temp_mlflow_uri):\n",
    "    shutil.rmtree(temp_mlflow_uri)"
   ]
  }
 ],
 "metadata": {
  "kernelspec": {
   "display_name": "quick_redraw_venv",
   "language": "python",
   "name": "quick_redraw_venv"
  },
  "language_info": {
   "codemirror_mode": {
    "name": "ipython",
    "version": 3
   },
   "file_extension": ".py",
   "mimetype": "text/x-python",
   "name": "python",
   "nbconvert_exporter": "python",
   "pygments_lexer": "ipython3",
   "version": "3.7.4"
  }
 },
 "nbformat": 4,
 "nbformat_minor": 4
}
